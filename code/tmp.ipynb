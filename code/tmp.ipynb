{
 "cells": [
  {
   "cell_type": "code",
   "execution_count": 12,
   "metadata": {},
   "outputs": [],
   "source": [
    "import json\n",
    "import plotly.graph_objects as go\n",
    "import plotly.express as px\n",
    "import pandas as pd\n",
    "from urllib.parse import urlparse\n",
    "import networkx as nx\n",
    "import matplotlib.pyplot as plt\n",
    "from itertools import combinations"
   ]
  },
  {
   "cell_type": "code",
   "execution_count": 13,
   "metadata": {},
   "outputs": [],
   "source": [
    "file_path = \"../data/1eb80fb8b50.json\"\n",
    "\n",
    "try:\n",
    "    with open(file_path, \"r\") as json_file:\n",
    "        data = json.load(json_file)\n",
    "except FileNotFoundError:\n",
    "    print(f\"File not found: {file_path}\")\n",
    "except json.JSONDecodeError as e:\n",
    "    print(f\"JSON decoding error: {e}\")"
   ]
  },
  {
   "cell_type": "code",
   "execution_count": 5,
   "metadata": {},
   "outputs": [],
   "source": [
    "df_key_words = pd.DataFrame(columns=[\"year\", \"month\", \"day\", \"url\", \"title\", \"content\", \"kws\", \"locations\", \"organizations\", \"persons\"])\n",
    "\n",
    "Years = [\"2024\"]\n",
    "for year in Years:\n",
    "    for month in range(1, 13): \n",
    "        for day in range(1, 32): \n",
    "            try:\n",
    "                num = 0\n",
    "                while(True):\n",
    "                    try :\n",
    "                        data_tmp = data['data'][str(year)][str(month)][str(day)][num]\n",
    "                        num += 1\n",
    "                        \n",
    "                        new_data = pd.DataFrame({\"year\": year, \n",
    "                                                'month': month,\n",
    "                                                'day': day,\n",
    "                                                'url' : data_tmp[\"url\"],\n",
    "                                                'title' : data_tmp[\"title\"],\n",
    "                                                'content' : data_tmp[\"content\"],\n",
    "                                                'kws': [data_tmp[\"kws\"]],\n",
    "                                                'locations': [data_tmp[\"loc\"]],\n",
    "                                                'organizations': [data_tmp[\"org\"]],\n",
    "                                                'persons': [data_tmp[\"per\"]]\n",
    "                                                })\n",
    "                        df_kws_article = pd.concat([df_kws_article, new_data], ignore_index=True)\n",
    "                    except e :\n",
    "                        break\n",
    "            except:\n",
    "                continue"
   ]
  },
  {
   "cell_type": "code",
   "execution_count": 6,
   "metadata": {},
   "outputs": [
    {
     "ename": "NameError",
     "evalue": "name 'df_kws_article' is not defined",
     "output_type": "error",
     "traceback": [
      "\u001b[1;31m---------------------------------------------------------------------------\u001b[0m",
      "\u001b[1;31mNameError\u001b[0m                                 Traceback (most recent call last)",
      "Cell \u001b[1;32mIn[6], line 1\u001b[0m\n\u001b[1;32m----> 1\u001b[0m \u001b[43mdf_kws_article\u001b[49m\n",
      "\u001b[1;31mNameError\u001b[0m: name 'df_kws_article' is not defined"
     ]
    }
   ],
   "source": [
    "df_kws_article"
   ]
  },
  {
   "cell_type": "code",
   "execution_count": 7,
   "metadata": {},
   "outputs": [
    {
     "ename": "NameError",
     "evalue": "name 'df_kws_article' is not defined",
     "output_type": "error",
     "traceback": [
      "\u001b[1;31m---------------------------------------------------------------------------\u001b[0m",
      "\u001b[1;31mNameError\u001b[0m                                 Traceback (most recent call last)",
      "Cell \u001b[1;32mIn[7], line 1\u001b[0m\n\u001b[1;32m----> 1\u001b[0m list_words \u001b[38;5;241m=\u001b[39m \u001b[43mdf_kws_article\u001b[49m[\u001b[38;5;124m\"\u001b[39m\u001b[38;5;124morganizations\u001b[39m\u001b[38;5;124m\"\u001b[39m]\u001b[38;5;241m.\u001b[39mtolist()\n",
      "\u001b[1;31mNameError\u001b[0m: name 'df_kws_article' is not defined"
     ]
    }
   ],
   "source": [
    "list_words = df_kws_article[\"organizations\"].tolist()"
   ]
  },
  {
   "cell_type": "code",
   "execution_count": null,
   "metadata": {},
   "outputs": [],
   "source": [
    "# Create a graph\n",
    "G = nx.Graph()\n",
    "\n",
    "# Iterate through each dictionary\n",
    "for dictionary in list_words:\n",
    "    # Get all words in the current dictionary\n",
    "    words = list(dictionary.keys())\n",
    "    \n",
    "    # Generate all combinations of words (edges) from the current dictionary\n",
    "    for word1, word2 in combinations(words, 2):\n",
    "        # Get the minimum frequency of the two words\n",
    "        weight = min(dictionary[word1], dictionary[word2])\n",
    "        \n",
    "        # Add the edge to the graph (if it doesn't exist, initialize the weight)\n",
    "        if G.has_edge(word1, word2):\n",
    "            G[word1][word2]['weight'] += weight\n",
    "        else:\n",
    "            G.add_edge(word1, word2, weight=weight)\n",
    "\n",
    "# Draw the graph\n",
    "plt.figure(figsize=(12, 8))\n",
    "pos = nx.spring_layout(G)  # positions for all nodes\n",
    "\n",
    "# Draw nodes\n",
    "nx.draw_networkx_nodes(G, pos, node_size=700)\n",
    "\n",
    "# Draw edges\n",
    "edges = G.edges(data=True)\n",
    "nx.draw_networkx_edges(G, pos, edgelist=edges, width=[d['weight'] for (u, v, d) in edges], alpha=0.5)\n",
    "\n",
    "# Draw labels\n",
    "nx.draw_networkx_labels(G, pos, font_size=12)\n",
    "\n",
    "# Show the plot\n",
    "plt.title(\"Word Co-occurrence Graph\")\n",
    "plt.axis('off')  # Turn off the axis\n",
    "plt.show()"
   ]
  },
  {
   "cell_type": "code",
   "execution_count": null,
   "metadata": {},
   "outputs": [],
   "source": []
  }
 ],
 "metadata": {
  "kernelspec": {
   "display_name": "myenv",
   "language": "python",
   "name": "python3"
  },
  "language_info": {
   "codemirror_mode": {
    "name": "ipython",
    "version": 3
   },
   "file_extension": ".py",
   "mimetype": "text/x-python",
   "name": "python",
   "nbconvert_exporter": "python",
   "pygments_lexer": "ipython3",
   "version": "3.9.19"
  }
 },
 "nbformat": 4,
 "nbformat_minor": 2
}
